{
 "cells": [
  {
   "cell_type": "markdown",
   "metadata": {},
   "source": [
    "### Importing necessary libraries"
   ]
  },
  {
   "cell_type": "code",
   "execution_count": 63,
   "metadata": {},
   "outputs": [],
   "source": [
    "#Importing necessary libraries\n",
    "import numpy as np\n",
    "import pandas as pd\n",
    "import matplotlib.pyplot as plt\n",
    "import matplotlib.cm as cm\n",
    "import seaborn as sns\n",
    "import random\n",
    "import sweetviz"
   ]
  },
  {
   "cell_type": "markdown",
   "metadata": {},
   "source": [
    "### Data Collection"
   ]
  },
  {
   "cell_type": "code",
   "execution_count": 64,
   "metadata": {},
   "outputs": [],
   "source": [
    "cdf = pd.read_csv('zomato_restaurants_in_India.csv')"
   ]
  },
  {
   "cell_type": "code",
   "execution_count": 65,
   "metadata": {},
   "outputs": [
    {
     "data": {
      "text/html": [
       "<div>\n",
       "<style scoped>\n",
       "    .dataframe tbody tr th:only-of-type {\n",
       "        vertical-align: middle;\n",
       "    }\n",
       "\n",
       "    .dataframe tbody tr th {\n",
       "        vertical-align: top;\n",
       "    }\n",
       "\n",
       "    .dataframe thead th {\n",
       "        text-align: right;\n",
       "    }\n",
       "</style>\n",
       "<table border=\"1\" class=\"dataframe\">\n",
       "  <thead>\n",
       "    <tr style=\"text-align: right;\">\n",
       "      <th></th>\n",
       "      <th>res_id</th>\n",
       "      <th>name</th>\n",
       "      <th>establishment</th>\n",
       "      <th>url</th>\n",
       "      <th>address</th>\n",
       "      <th>city</th>\n",
       "      <th>city_id</th>\n",
       "      <th>locality</th>\n",
       "      <th>latitude</th>\n",
       "      <th>longitude</th>\n",
       "      <th>...</th>\n",
       "      <th>price_range</th>\n",
       "      <th>currency</th>\n",
       "      <th>highlights</th>\n",
       "      <th>aggregate_rating</th>\n",
       "      <th>rating_text</th>\n",
       "      <th>votes</th>\n",
       "      <th>photo_count</th>\n",
       "      <th>opentable_support</th>\n",
       "      <th>delivery</th>\n",
       "      <th>takeaway</th>\n",
       "    </tr>\n",
       "  </thead>\n",
       "  <tbody>\n",
       "    <tr>\n",
       "      <th>0</th>\n",
       "      <td>3400299</td>\n",
       "      <td>Bikanervala</td>\n",
       "      <td>['Quick Bites']</td>\n",
       "      <td>https://www.zomato.com/agra/bikanervala-khanda...</td>\n",
       "      <td>Kalyani Point, Near Tulsi Cinema, Bypass Road,...</td>\n",
       "      <td>Agra</td>\n",
       "      <td>34</td>\n",
       "      <td>Khandari</td>\n",
       "      <td>27.211450</td>\n",
       "      <td>78.002381</td>\n",
       "      <td>...</td>\n",
       "      <td>2</td>\n",
       "      <td>Rs.</td>\n",
       "      <td>['Lunch', 'Takeaway Available', 'Credit Card',...</td>\n",
       "      <td>4.4</td>\n",
       "      <td>Very Good</td>\n",
       "      <td>814</td>\n",
       "      <td>154</td>\n",
       "      <td>0.0</td>\n",
       "      <td>-1</td>\n",
       "      <td>-1</td>\n",
       "    </tr>\n",
       "    <tr>\n",
       "      <th>1</th>\n",
       "      <td>3400005</td>\n",
       "      <td>Mama Chicken Mama Franky House</td>\n",
       "      <td>['Quick Bites']</td>\n",
       "      <td>https://www.zomato.com/agra/mama-chicken-mama-...</td>\n",
       "      <td>Main Market, Sadar Bazaar, Agra Cantt, Agra</td>\n",
       "      <td>Agra</td>\n",
       "      <td>34</td>\n",
       "      <td>Agra Cantt</td>\n",
       "      <td>27.160569</td>\n",
       "      <td>78.011583</td>\n",
       "      <td>...</td>\n",
       "      <td>2</td>\n",
       "      <td>Rs.</td>\n",
       "      <td>['Delivery', 'No Alcohol Available', 'Dinner',...</td>\n",
       "      <td>4.4</td>\n",
       "      <td>Very Good</td>\n",
       "      <td>1203</td>\n",
       "      <td>161</td>\n",
       "      <td>0.0</td>\n",
       "      <td>-1</td>\n",
       "      <td>-1</td>\n",
       "    </tr>\n",
       "    <tr>\n",
       "      <th>2</th>\n",
       "      <td>3401013</td>\n",
       "      <td>Bhagat Halwai</td>\n",
       "      <td>['Quick Bites']</td>\n",
       "      <td>https://www.zomato.com/agra/bhagat-halwai-2-sh...</td>\n",
       "      <td>62/1, Near Easy Day, West Shivaji Nagar, Goalp...</td>\n",
       "      <td>Agra</td>\n",
       "      <td>34</td>\n",
       "      <td>Shahganj</td>\n",
       "      <td>27.182938</td>\n",
       "      <td>77.979684</td>\n",
       "      <td>...</td>\n",
       "      <td>1</td>\n",
       "      <td>Rs.</td>\n",
       "      <td>['No Alcohol Available', 'Dinner', 'Takeaway A...</td>\n",
       "      <td>4.2</td>\n",
       "      <td>Very Good</td>\n",
       "      <td>801</td>\n",
       "      <td>107</td>\n",
       "      <td>0.0</td>\n",
       "      <td>1</td>\n",
       "      <td>-1</td>\n",
       "    </tr>\n",
       "    <tr>\n",
       "      <th>3</th>\n",
       "      <td>3400290</td>\n",
       "      <td>Bhagat Halwai</td>\n",
       "      <td>['Quick Bites']</td>\n",
       "      <td>https://www.zomato.com/agra/bhagat-halwai-civi...</td>\n",
       "      <td>Near Anjana Cinema, Nehru Nagar, Civil Lines, ...</td>\n",
       "      <td>Agra</td>\n",
       "      <td>34</td>\n",
       "      <td>Civil Lines</td>\n",
       "      <td>27.205668</td>\n",
       "      <td>78.004799</td>\n",
       "      <td>...</td>\n",
       "      <td>1</td>\n",
       "      <td>Rs.</td>\n",
       "      <td>['Takeaway Available', 'Credit Card', 'Lunch',...</td>\n",
       "      <td>4.3</td>\n",
       "      <td>Very Good</td>\n",
       "      <td>693</td>\n",
       "      <td>157</td>\n",
       "      <td>0.0</td>\n",
       "      <td>1</td>\n",
       "      <td>-1</td>\n",
       "    </tr>\n",
       "    <tr>\n",
       "      <th>4</th>\n",
       "      <td>3401744</td>\n",
       "      <td>The Salt Cafe Kitchen &amp; Bar</td>\n",
       "      <td>['Casual Dining']</td>\n",
       "      <td>https://www.zomato.com/agra/the-salt-cafe-kitc...</td>\n",
       "      <td>1C,3rd Floor, Fatehabad Road, Tajganj, Agra</td>\n",
       "      <td>Agra</td>\n",
       "      <td>34</td>\n",
       "      <td>Tajganj</td>\n",
       "      <td>27.157709</td>\n",
       "      <td>78.052421</td>\n",
       "      <td>...</td>\n",
       "      <td>3</td>\n",
       "      <td>Rs.</td>\n",
       "      <td>['Lunch', 'Serves Alcohol', 'Cash', 'Credit Ca...</td>\n",
       "      <td>4.9</td>\n",
       "      <td>Excellent</td>\n",
       "      <td>470</td>\n",
       "      <td>291</td>\n",
       "      <td>0.0</td>\n",
       "      <td>1</td>\n",
       "      <td>-1</td>\n",
       "    </tr>\n",
       "  </tbody>\n",
       "</table>\n",
       "<p>5 rows × 26 columns</p>\n",
       "</div>"
      ],
      "text/plain": [
       "    res_id                            name      establishment  \\\n",
       "0  3400299                     Bikanervala    ['Quick Bites']   \n",
       "1  3400005  Mama Chicken Mama Franky House    ['Quick Bites']   \n",
       "2  3401013                   Bhagat Halwai    ['Quick Bites']   \n",
       "3  3400290                   Bhagat Halwai    ['Quick Bites']   \n",
       "4  3401744     The Salt Cafe Kitchen & Bar  ['Casual Dining']   \n",
       "\n",
       "                                                 url  \\\n",
       "0  https://www.zomato.com/agra/bikanervala-khanda...   \n",
       "1  https://www.zomato.com/agra/mama-chicken-mama-...   \n",
       "2  https://www.zomato.com/agra/bhagat-halwai-2-sh...   \n",
       "3  https://www.zomato.com/agra/bhagat-halwai-civi...   \n",
       "4  https://www.zomato.com/agra/the-salt-cafe-kitc...   \n",
       "\n",
       "                                             address  city  city_id  \\\n",
       "0  Kalyani Point, Near Tulsi Cinema, Bypass Road,...  Agra       34   \n",
       "1        Main Market, Sadar Bazaar, Agra Cantt, Agra  Agra       34   \n",
       "2  62/1, Near Easy Day, West Shivaji Nagar, Goalp...  Agra       34   \n",
       "3  Near Anjana Cinema, Nehru Nagar, Civil Lines, ...  Agra       34   \n",
       "4        1C,3rd Floor, Fatehabad Road, Tajganj, Agra  Agra       34   \n",
       "\n",
       "      locality   latitude  longitude  ... price_range  currency  \\\n",
       "0     Khandari  27.211450  78.002381  ...           2       Rs.   \n",
       "1   Agra Cantt  27.160569  78.011583  ...           2       Rs.   \n",
       "2     Shahganj  27.182938  77.979684  ...           1       Rs.   \n",
       "3  Civil Lines  27.205668  78.004799  ...           1       Rs.   \n",
       "4      Tajganj  27.157709  78.052421  ...           3       Rs.   \n",
       "\n",
       "                                          highlights aggregate_rating  \\\n",
       "0  ['Lunch', 'Takeaway Available', 'Credit Card',...              4.4   \n",
       "1  ['Delivery', 'No Alcohol Available', 'Dinner',...              4.4   \n",
       "2  ['No Alcohol Available', 'Dinner', 'Takeaway A...              4.2   \n",
       "3  ['Takeaway Available', 'Credit Card', 'Lunch',...              4.3   \n",
       "4  ['Lunch', 'Serves Alcohol', 'Cash', 'Credit Ca...              4.9   \n",
       "\n",
       "  rating_text  votes  photo_count opentable_support delivery  takeaway  \n",
       "0   Very Good    814          154               0.0       -1        -1  \n",
       "1   Very Good   1203          161               0.0       -1        -1  \n",
       "2   Very Good    801          107               0.0        1        -1  \n",
       "3   Very Good    693          157               0.0        1        -1  \n",
       "4   Excellent    470          291               0.0        1        -1  \n",
       "\n",
       "[5 rows x 26 columns]"
      ]
     },
     "execution_count": 65,
     "metadata": {},
     "output_type": "execute_result"
    }
   ],
   "source": [
    "cdf.head()"
   ]
  },
  {
   "cell_type": "code",
   "execution_count": 66,
   "metadata": {},
   "outputs": [
    {
     "data": {
      "text/plain": [
       "(211944, 26)"
      ]
     },
     "execution_count": 66,
     "metadata": {},
     "output_type": "execute_result"
    }
   ],
   "source": [
    "cdf.shape"
   ]
  },
  {
   "cell_type": "markdown",
   "metadata": {},
   "source": [
    "### Data definition"
   ]
  },
  {
   "cell_type": "code",
   "execution_count": 67,
   "metadata": {},
   "outputs": [
    {
     "name": "stdout",
     "output_type": "stream",
     "text": [
      "<class 'pandas.core.frame.DataFrame'>\n",
      "RangeIndex: 211944 entries, 0 to 211943\n",
      "Data columns (total 26 columns):\n",
      " #   Column                Non-Null Count   Dtype  \n",
      "---  ------                --------------   -----  \n",
      " 0   res_id                211944 non-null  int64  \n",
      " 1   name                  211944 non-null  object \n",
      " 2   establishment         211944 non-null  object \n",
      " 3   url                   211944 non-null  object \n",
      " 4   address               211810 non-null  object \n",
      " 5   city                  211944 non-null  object \n",
      " 6   city_id               211944 non-null  int64  \n",
      " 7   locality              211944 non-null  object \n",
      " 8   latitude              211944 non-null  float64\n",
      " 9   longitude             211944 non-null  float64\n",
      " 10  zipcode               48757 non-null   object \n",
      " 11  country_id            211944 non-null  int64  \n",
      " 12  locality_verbose      211944 non-null  object \n",
      " 13  cuisines              210553 non-null  object \n",
      " 14  timings               208070 non-null  object \n",
      " 15  average_cost_for_two  211944 non-null  int64  \n",
      " 16  price_range           211944 non-null  int64  \n",
      " 17  currency              211944 non-null  object \n",
      " 18  highlights            211944 non-null  object \n",
      " 19  aggregate_rating      211944 non-null  float64\n",
      " 20  rating_text           211944 non-null  object \n",
      " 21  votes                 211944 non-null  int64  \n",
      " 22  photo_count           211944 non-null  int64  \n",
      " 23  opentable_support     211896 non-null  float64\n",
      " 24  delivery              211944 non-null  int64  \n",
      " 25  takeaway              211944 non-null  int64  \n",
      "dtypes: float64(4), int64(9), object(13)\n",
      "memory usage: 42.0+ MB\n"
     ]
    }
   ],
   "source": [
    "cdf.info()"
   ]
  },
  {
   "cell_type": "code",
   "execution_count": 68,
   "metadata": {},
   "outputs": [
    {
     "data": {
      "text/html": [
       "<div>\n",
       "<style scoped>\n",
       "    .dataframe tbody tr th:only-of-type {\n",
       "        vertical-align: middle;\n",
       "    }\n",
       "\n",
       "    .dataframe tbody tr th {\n",
       "        vertical-align: top;\n",
       "    }\n",
       "\n",
       "    .dataframe thead th {\n",
       "        text-align: right;\n",
       "    }\n",
       "</style>\n",
       "<table border=\"1\" class=\"dataframe\">\n",
       "  <thead>\n",
       "    <tr style=\"text-align: right;\">\n",
       "      <th></th>\n",
       "      <th>res_id</th>\n",
       "      <th>city_id</th>\n",
       "      <th>latitude</th>\n",
       "      <th>longitude</th>\n",
       "      <th>country_id</th>\n",
       "      <th>average_cost_for_two</th>\n",
       "      <th>price_range</th>\n",
       "      <th>aggregate_rating</th>\n",
       "      <th>votes</th>\n",
       "      <th>photo_count</th>\n",
       "      <th>opentable_support</th>\n",
       "      <th>delivery</th>\n",
       "      <th>takeaway</th>\n",
       "    </tr>\n",
       "  </thead>\n",
       "  <tbody>\n",
       "    <tr>\n",
       "      <th>count</th>\n",
       "      <td>2.119440e+05</td>\n",
       "      <td>211944.000000</td>\n",
       "      <td>211944.000000</td>\n",
       "      <td>211944.000000</td>\n",
       "      <td>211944.0</td>\n",
       "      <td>211944.000000</td>\n",
       "      <td>211944.000000</td>\n",
       "      <td>211944.000000</td>\n",
       "      <td>211944.000000</td>\n",
       "      <td>211944.000000</td>\n",
       "      <td>211896.0</td>\n",
       "      <td>211944.000000</td>\n",
       "      <td>211944.0</td>\n",
       "    </tr>\n",
       "    <tr>\n",
       "      <th>mean</th>\n",
       "      <td>1.349411e+07</td>\n",
       "      <td>4746.785434</td>\n",
       "      <td>21.499758</td>\n",
       "      <td>77.615276</td>\n",
       "      <td>1.0</td>\n",
       "      <td>595.812229</td>\n",
       "      <td>1.882535</td>\n",
       "      <td>3.395937</td>\n",
       "      <td>378.001864</td>\n",
       "      <td>256.971224</td>\n",
       "      <td>0.0</td>\n",
       "      <td>-0.255907</td>\n",
       "      <td>-1.0</td>\n",
       "    </tr>\n",
       "    <tr>\n",
       "      <th>std</th>\n",
       "      <td>7.883722e+06</td>\n",
       "      <td>5568.766386</td>\n",
       "      <td>22.781331</td>\n",
       "      <td>7.500104</td>\n",
       "      <td>0.0</td>\n",
       "      <td>606.239363</td>\n",
       "      <td>0.892989</td>\n",
       "      <td>1.283642</td>\n",
       "      <td>925.333370</td>\n",
       "      <td>867.668940</td>\n",
       "      <td>0.0</td>\n",
       "      <td>0.964172</td>\n",
       "      <td>0.0</td>\n",
       "    </tr>\n",
       "    <tr>\n",
       "      <th>min</th>\n",
       "      <td>5.000000e+01</td>\n",
       "      <td>1.000000</td>\n",
       "      <td>0.000000</td>\n",
       "      <td>0.000000</td>\n",
       "      <td>1.0</td>\n",
       "      <td>0.000000</td>\n",
       "      <td>1.000000</td>\n",
       "      <td>0.000000</td>\n",
       "      <td>-18.000000</td>\n",
       "      <td>0.000000</td>\n",
       "      <td>0.0</td>\n",
       "      <td>-1.000000</td>\n",
       "      <td>-1.0</td>\n",
       "    </tr>\n",
       "    <tr>\n",
       "      <th>25%</th>\n",
       "      <td>3.301027e+06</td>\n",
       "      <td>11.000000</td>\n",
       "      <td>15.496071</td>\n",
       "      <td>74.877961</td>\n",
       "      <td>1.0</td>\n",
       "      <td>250.000000</td>\n",
       "      <td>1.000000</td>\n",
       "      <td>3.300000</td>\n",
       "      <td>16.000000</td>\n",
       "      <td>3.000000</td>\n",
       "      <td>0.0</td>\n",
       "      <td>-1.000000</td>\n",
       "      <td>-1.0</td>\n",
       "    </tr>\n",
       "    <tr>\n",
       "      <th>50%</th>\n",
       "      <td>1.869573e+07</td>\n",
       "      <td>34.000000</td>\n",
       "      <td>22.514494</td>\n",
       "      <td>77.425971</td>\n",
       "      <td>1.0</td>\n",
       "      <td>400.000000</td>\n",
       "      <td>2.000000</td>\n",
       "      <td>3.800000</td>\n",
       "      <td>100.000000</td>\n",
       "      <td>18.000000</td>\n",
       "      <td>0.0</td>\n",
       "      <td>-1.000000</td>\n",
       "      <td>-1.0</td>\n",
       "    </tr>\n",
       "    <tr>\n",
       "      <th>75%</th>\n",
       "      <td>1.881297e+07</td>\n",
       "      <td>11306.000000</td>\n",
       "      <td>26.841667</td>\n",
       "      <td>80.219323</td>\n",
       "      <td>1.0</td>\n",
       "      <td>700.000000</td>\n",
       "      <td>2.000000</td>\n",
       "      <td>4.100000</td>\n",
       "      <td>362.000000</td>\n",
       "      <td>128.000000</td>\n",
       "      <td>0.0</td>\n",
       "      <td>1.000000</td>\n",
       "      <td>-1.0</td>\n",
       "    </tr>\n",
       "    <tr>\n",
       "      <th>max</th>\n",
       "      <td>1.915979e+07</td>\n",
       "      <td>11354.000000</td>\n",
       "      <td>10000.000000</td>\n",
       "      <td>91.832769</td>\n",
       "      <td>1.0</td>\n",
       "      <td>30000.000000</td>\n",
       "      <td>4.000000</td>\n",
       "      <td>4.900000</td>\n",
       "      <td>42539.000000</td>\n",
       "      <td>17702.000000</td>\n",
       "      <td>0.0</td>\n",
       "      <td>1.000000</td>\n",
       "      <td>-1.0</td>\n",
       "    </tr>\n",
       "  </tbody>\n",
       "</table>\n",
       "</div>"
      ],
      "text/plain": [
       "             res_id        city_id       latitude      longitude  country_id  \\\n",
       "count  2.119440e+05  211944.000000  211944.000000  211944.000000    211944.0   \n",
       "mean   1.349411e+07    4746.785434      21.499758      77.615276         1.0   \n",
       "std    7.883722e+06    5568.766386      22.781331       7.500104         0.0   \n",
       "min    5.000000e+01       1.000000       0.000000       0.000000         1.0   \n",
       "25%    3.301027e+06      11.000000      15.496071      74.877961         1.0   \n",
       "50%    1.869573e+07      34.000000      22.514494      77.425971         1.0   \n",
       "75%    1.881297e+07   11306.000000      26.841667      80.219323         1.0   \n",
       "max    1.915979e+07   11354.000000   10000.000000      91.832769         1.0   \n",
       "\n",
       "       average_cost_for_two    price_range  aggregate_rating          votes  \\\n",
       "count         211944.000000  211944.000000     211944.000000  211944.000000   \n",
       "mean             595.812229       1.882535          3.395937     378.001864   \n",
       "std              606.239363       0.892989          1.283642     925.333370   \n",
       "min                0.000000       1.000000          0.000000     -18.000000   \n",
       "25%              250.000000       1.000000          3.300000      16.000000   \n",
       "50%              400.000000       2.000000          3.800000     100.000000   \n",
       "75%              700.000000       2.000000          4.100000     362.000000   \n",
       "max            30000.000000       4.000000          4.900000   42539.000000   \n",
       "\n",
       "         photo_count  opentable_support       delivery  takeaway  \n",
       "count  211944.000000           211896.0  211944.000000  211944.0  \n",
       "mean      256.971224                0.0      -0.255907      -1.0  \n",
       "std       867.668940                0.0       0.964172       0.0  \n",
       "min         0.000000                0.0      -1.000000      -1.0  \n",
       "25%         3.000000                0.0      -1.000000      -1.0  \n",
       "50%        18.000000                0.0      -1.000000      -1.0  \n",
       "75%       128.000000                0.0       1.000000      -1.0  \n",
       "max     17702.000000                0.0       1.000000      -1.0  "
      ]
     },
     "execution_count": 68,
     "metadata": {},
     "output_type": "execute_result"
    }
   ],
   "source": [
    "cdf.describe()"
   ]
  },
  {
   "cell_type": "markdown",
   "metadata": {},
   "source": [
    "### Data cleaning"
   ]
  },
  {
   "cell_type": "markdown",
   "metadata": {},
   "source": [
    " Handling Duplicates"
   ]
  },
  {
   "cell_type": "code",
   "execution_count": 69,
   "metadata": {},
   "outputs": [
    {
     "data": {
      "text/plain": [
       "(55568, 26)"
      ]
     },
     "execution_count": 69,
     "metadata": {},
     "output_type": "execute_result"
    }
   ],
   "source": [
    "# Duplicate values need to remove to avoid deviation,since res_id is unique identifier for restaurants, we use to remove \n",
    "#duplicates\n",
    "cdf = cdf.drop_duplicates(subset='res_id')\n",
    "cdf.shape"
   ]
  },
  {
   "cell_type": "markdown",
   "metadata": {},
   "source": [
    "Almost 75% of records got removed "
   ]
  },
  {
   "cell_type": "markdown",
   "metadata": {},
   "source": [
    "Handling missing Values"
   ]
  },
  {
   "cell_type": "code",
   "execution_count": 70,
   "metadata": {},
   "outputs": [
    {
     "data": {
      "text/plain": [
       "True"
      ]
     },
     "execution_count": 70,
     "metadata": {},
     "output_type": "execute_result"
    }
   ],
   "source": [
    "cdf.isnull().values.any()"
   ]
  },
  {
   "cell_type": "code",
   "execution_count": 71,
   "metadata": {},
   "outputs": [
    {
     "data": {
      "text/plain": [
       "res_id                      0\n",
       "name                        0\n",
       "establishment               0\n",
       "url                         0\n",
       "address                    18\n",
       "city                        0\n",
       "city_id                     0\n",
       "locality                    0\n",
       "latitude                    0\n",
       "longitude                   0\n",
       "zipcode                 44623\n",
       "country_id                  0\n",
       "locality_verbose            0\n",
       "cuisines                  470\n",
       "timings                  1003\n",
       "average_cost_for_two        0\n",
       "price_range                 0\n",
       "currency                    0\n",
       "highlights                  0\n",
       "aggregate_rating            0\n",
       "rating_text                 0\n",
       "votes                       0\n",
       "photo_count                 0\n",
       "opentable_support          12\n",
       "delivery                    0\n",
       "takeaway                    0\n",
       "dtype: int64"
      ]
     },
     "execution_count": 71,
     "metadata": {},
     "output_type": "execute_result"
    }
   ],
   "source": [
    "cdf.isnull().sum() #Checking for null values"
   ]
  },
  {
   "cell_type": "code",
   "execution_count": 72,
   "metadata": {},
   "outputs": [
    {
     "data": {
      "text/plain": [
       "res_id                   0.000000\n",
       "name                     0.000000\n",
       "establishment            0.000000\n",
       "url                      0.000000\n",
       "address                  0.032393\n",
       "city                     0.000000\n",
       "city_id                  0.000000\n",
       "locality                 0.000000\n",
       "latitude                 0.000000\n",
       "longitude                0.000000\n",
       "zipcode                 80.303412\n",
       "country_id               0.000000\n",
       "locality_verbose         0.000000\n",
       "cuisines                 0.845811\n",
       "timings                  1.804996\n",
       "average_cost_for_two     0.000000\n",
       "price_range              0.000000\n",
       "currency                 0.000000\n",
       "highlights               0.000000\n",
       "aggregate_rating         0.000000\n",
       "rating_text              0.000000\n",
       "votes                    0.000000\n",
       "photo_count              0.000000\n",
       "opentable_support        0.021595\n",
       "delivery                 0.000000\n",
       "takeaway                 0.000000\n",
       "dtype: float64"
      ]
     },
     "execution_count": 72,
     "metadata": {},
     "output_type": "execute_result"
    }
   ],
   "source": [
    "cdf.isnull().mean()*100"
   ]
  },
  {
   "cell_type": "code",
   "execution_count": 73,
   "metadata": {},
   "outputs": [],
   "source": [
    "# Its better to drop zipcode column since it has 80% of null values which cannot be imputed.\n",
    "cdf.drop(['zipcode'], axis=1, inplace=True)"
   ]
  },
  {
   "cell_type": "code",
   "execution_count": 74,
   "metadata": {},
   "outputs": [
    {
     "data": {
      "text/plain": [
       "(55568, 25)"
      ]
     },
     "execution_count": 74,
     "metadata": {},
     "output_type": "execute_result"
    }
   ],
   "source": [
    "cdf.shape"
   ]
  },
  {
   "cell_type": "markdown",
   "metadata": {},
   "source": [
    "* Identifying not useful columns from dataset for further analysis"
   ]
  },
  {
   "cell_type": "code",
   "execution_count": 75,
   "metadata": {},
   "outputs": [
    {
     "data": {
      "text/plain": [
       "array(['Bikanervala', 'Mama Chicken Mama Franky House', 'Bhagat Halwai',\n",
       "       ..., 'Red China', 'Wah Ustad', 'Geeta lodge'], dtype=object)"
      ]
     },
     "execution_count": 75,
     "metadata": {},
     "output_type": "execute_result"
    }
   ],
   "source": [
    "#res_id - Unique ID for each restaurant\n",
    "#name - Name is useful since we will use for finding top restaurants\n",
    "cdf['name'].unique()"
   ]
  },
  {
   "cell_type": "code",
   "execution_count": 76,
   "metadata": {},
   "outputs": [
    {
     "data": {
      "text/plain": [
       "array([\"['Quick Bites']\", \"['Casual Dining']\", \"['Bakery']\", \"['Café']\",\n",
       "       \"['Dhaba']\", \"['Bhojanalya']\", \"['Bar']\", \"['Sweet Shop']\",\n",
       "       \"['Fine Dining']\", \"['Food Truck']\", \"['Dessert Parlour']\",\n",
       "       \"['Lounge']\", \"['Pub']\", \"['Beverage Shop']\", \"['Kiosk']\",\n",
       "       \"['Paan Shop']\", \"['Confectionery']\", '[]', \"['Shack']\",\n",
       "       \"['Club']\", \"['Food Court']\", \"['Mess']\", \"['Butcher Shop']\",\n",
       "       \"['Microbrewery']\", \"['Cocktail Bar']\", \"['Pop up']\",\n",
       "       \"['Irani Cafe']\"], dtype=object)"
      ]
     },
     "execution_count": 76,
     "metadata": {},
     "output_type": "execute_result"
    }
   ],
   "source": [
    "#establishment - Let's see what type of values we have in establishment\n",
    "cdf['establishment'].unique()"
   ]
  },
  {
   "cell_type": "markdown",
   "metadata": {},
   "source": [
    "* Seems establishment column need some changes"
   ]
  },
  {
   "cell_type": "code",
   "execution_count": 77,
   "metadata": {},
   "outputs": [
    {
     "name": "stdout",
     "output_type": "stream",
     "text": [
      "['Quick Bites']\n",
      "<class 'str'>\n"
     ]
    }
   ],
   "source": [
    "print(cdf[\"establishment\"].unique()[0])\n",
    "print(type(cdf[\"establishment\"].unique()[0]))"
   ]
  },
  {
   "cell_type": "code",
   "execution_count": 78,
   "metadata": {},
   "outputs": [
    {
     "data": {
      "text/plain": [
       "'Quick Bites'"
      ]
     },
     "execution_count": 78,
     "metadata": {},
     "output_type": "execute_result"
    }
   ],
   "source": [
    "# Removing [' '] from each value\n",
    "cdf['establishment'] = cdf['establishment'].apply(lambda x:x[2:-2])\n",
    "cdf['establishment'].unique()[0]"
   ]
  },
  {
   "cell_type": "code",
   "execution_count": 79,
   "metadata": {},
   "outputs": [
    {
     "data": {
      "text/plain": [
       "array(['Quick Bites', 'Casual Dining', 'Bakery', 'Café', 'Dhaba',\n",
       "       'Bhojanalya', 'Bar', 'Sweet Shop', 'Fine Dining', 'Food Truck',\n",
       "       'Dessert Parlour', 'Lounge', 'Pub', 'Beverage Shop', 'Kiosk',\n",
       "       'Paan Shop', 'Confectionery', '', 'Shack', 'Club', 'Food Court',\n",
       "       'Mess', 'Butcher Shop', 'Microbrewery', 'Cocktail Bar', 'Pop up',\n",
       "       'Irani Cafe'], dtype=object)"
      ]
     },
     "execution_count": 79,
     "metadata": {},
     "output_type": "execute_result"
    }
   ],
   "source": [
    "cdf['establishment'].unique()"
   ]
  },
  {
   "cell_type": "code",
   "execution_count": 80,
   "metadata": {},
   "outputs": [
    {
     "name": "stdout",
     "output_type": "stream",
     "text": [
      "['Quick Bites' 'Casual Dining' 'Bakery' 'Café' 'Dhaba' 'Bhojanalya' 'Bar'\n",
      " 'Sweet Shop' 'Fine Dining' 'Food Truck' 'Dessert Parlour' 'Lounge' 'Pub'\n",
      " 'Beverage Shop' 'Kiosk' 'Paan Shop' 'Confectionery' '' 'Shack' 'Club'\n",
      " 'Food Court' 'Mess' 'Butcher Shop' 'Microbrewery' 'Cocktail Bar' 'Pop up'\n",
      " 'Irani Cafe']\n",
      "['Quick Bites' 'Casual Dining' 'Bakery' 'Café' 'Dhaba' 'Bhojanalya' 'Bar'\n",
      " 'Sweet Shop' 'Fine Dining' 'Food Truck' 'Dessert Parlour' 'Lounge' 'Pub'\n",
      " 'Beverage Shop' 'Kiosk' 'Paan Shop' 'Confectionery' 'NA' 'Shack' 'Club'\n",
      " 'Food Court' 'Mess' 'Butcher Shop' 'Microbrewery' 'Cocktail Bar' 'Pop up'\n",
      " 'Irani Cafe']\n"
     ]
    }
   ],
   "source": [
    "# Changing ''  to 'NA'\n",
    "print(cdf[\"establishment\"].unique())\n",
    "cdf[\"establishment\"] = cdf[\"establishment\"].apply(lambda x : np.where(x==\"\", \"NA\", x))\n",
    "print(cdf[\"establishment\"].unique())"
   ]
  },
  {
   "cell_type": "code",
   "execution_count": 81,
   "metadata": {},
   "outputs": [
    {
     "data": {
      "text/plain": [
       "Index(['res_id', 'name', 'establishment', 'url', 'address', 'city', 'city_id',\n",
       "       'locality', 'latitude', 'longitude', 'country_id', 'locality_verbose',\n",
       "       'cuisines', 'timings', 'average_cost_for_two', 'price_range',\n",
       "       'currency', 'highlights', 'aggregate_rating', 'rating_text', 'votes',\n",
       "       'photo_count', 'opentable_support', 'delivery', 'takeaway'],\n",
       "      dtype='object')"
      ]
     },
     "execution_count": 81,
     "metadata": {},
     "output_type": "execute_result"
    }
   ],
   "source": [
    "cdf.columns"
   ]
  },
  {
   "cell_type": "code",
   "execution_count": 82,
   "metadata": {},
   "outputs": [
    {
     "data": {
      "text/plain": [
       "0         https://www.zomato.com/agra/bikanervala-khanda...\n",
       "1         https://www.zomato.com/agra/mama-chicken-mama-...\n",
       "2         https://www.zomato.com/agra/bhagat-halwai-2-sh...\n",
       "3         https://www.zomato.com/agra/bhagat-halwai-civi...\n",
       "4         https://www.zomato.com/agra/the-salt-cafe-kitc...\n",
       "                                ...                        \n",
       "211882    https://www.zomato.com/vadodara/shree-janta-ic...\n",
       "211925    https://www.zomato.com/vadodara/the-grand-thak...\n",
       "211926    https://www.zomato.com/vadodara/geeta-lodge-al...\n",
       "211940    https://www.zomato.com/vadodara/raju-omlet-kar...\n",
       "211942    https://www.zomato.com/vadodara/subway-1-akota...\n",
       "Name: url, Length: 55568, dtype: object"
      ]
     },
     "execution_count": 82,
     "metadata": {},
     "output_type": "execute_result"
    }
   ],
   "source": [
    "cdf['url']"
   ]
  },
  {
   "cell_type": "code",
   "execution_count": 83,
   "metadata": {},
   "outputs": [
    {
     "data": {
      "text/plain": [
       "0         Kalyani Point, Near Tulsi Cinema, Bypass Road,...\n",
       "1               Main Market, Sadar Bazaar, Agra Cantt, Agra\n",
       "2         62/1, Near Easy Day, West Shivaji Nagar, Goalp...\n",
       "3         Near Anjana Cinema, Nehru Nagar, Civil Lines, ...\n",
       "4               1C,3rd Floor, Fatehabad Road, Tajganj, Agra\n",
       "                                ...                        \n",
       "211882    Ground Floor, 5 Ronak Plaza, Tulsidham Char Ra...\n",
       "211925    3rd Floor, Shreem Shalini Mall, Opposite Conqu...\n",
       "211926    Shop 11, Ground Floor, Atlantis K-10, Tower A,...\n",
       "211940    Mahalaxmi Apartment, Opposite B O B, Karoli Ba...\n",
       "211942    G-2, Vedant Platina, Near Cosmos, Akota, Vadodara\n",
       "Name: address, Length: 55568, dtype: object"
      ]
     },
     "execution_count": 83,
     "metadata": {},
     "output_type": "execute_result"
    }
   ],
   "source": [
    "cdf['address']"
   ]
  },
  {
   "cell_type": "code",
   "execution_count": 84,
   "metadata": {},
   "outputs": [],
   "source": [
    "# Dropping objective features ['url', 'address']\n",
    "cdf.drop(['url','address'],axis=1,inplace=True)"
   ]
  },
  {
   "cell_type": "code",
   "execution_count": 85,
   "metadata": {},
   "outputs": [
    {
     "data": {
      "text/plain": [
       "(55568, 23)"
      ]
     },
     "execution_count": 85,
     "metadata": {},
     "output_type": "execute_result"
    }
   ],
   "source": [
    "cdf.shape"
   ]
  },
  {
   "cell_type": "code",
   "execution_count": 86,
   "metadata": {},
   "outputs": [
    {
     "data": {
      "text/plain": [
       "Index(['res_id', 'name', 'establishment', 'city', 'city_id', 'locality',\n",
       "       'latitude', 'longitude', 'country_id', 'locality_verbose', 'cuisines',\n",
       "       'timings', 'average_cost_for_two', 'price_range', 'currency',\n",
       "       'highlights', 'aggregate_rating', 'rating_text', 'votes', 'photo_count',\n",
       "       'opentable_support', 'delivery', 'takeaway'],\n",
       "      dtype='object')"
      ]
     },
     "execution_count": 86,
     "metadata": {},
     "output_type": "execute_result"
    }
   ],
   "source": [
    "cdf.columns"
   ]
  },
  {
   "cell_type": "code",
   "execution_count": 87,
   "metadata": {},
   "outputs": [
    {
     "data": {
      "text/plain": [
       "array(['Agra', 'Ahmedabad', 'Gandhinagar', 'Ajmer', 'Alappuzha',\n",
       "       'Allahabad', 'Amravati', 'Amritsar', 'Aurangabad', 'Bangalore',\n",
       "       'Bhopal', 'Bhubaneshwar', 'Chandigarh', 'Mohali', 'Panchkula',\n",
       "       'Zirakpur', 'Nayagaon', 'Chennai', 'Coimbatore', 'Cuttack',\n",
       "       'Darjeeling', 'Dehradun', 'New Delhi', 'Gurgaon', 'Noida',\n",
       "       'Faridabad', 'Ghaziabad', 'Greater Noida', 'Dharamshala',\n",
       "       'Gangtok', 'Goa', 'Gorakhpur', 'Guntur', 'Guwahati', 'Gwalior',\n",
       "       'Haridwar', 'Hyderabad', 'Secunderabad', 'Indore', 'Jabalpur',\n",
       "       'Jaipur', 'Jalandhar', 'Jammu', 'Jamnagar', 'Jamshedpur', 'Jhansi',\n",
       "       'Jodhpur', 'Junagadh', 'Kanpur', 'Kharagpur', 'Kochi', 'Kolhapur',\n",
       "       'Kolkata', 'Howrah', 'Kota', 'Lucknow', 'Ludhiana', 'Madurai',\n",
       "       'Manali', 'Mangalore', 'Manipal', 'Udupi', 'Meerut', 'Mumbai',\n",
       "       'Thane', 'Navi Mumbai', 'Mussoorie', 'Mysore', 'Nagpur',\n",
       "       'Nainital', 'Nasik', 'Nashik', 'Neemrana', 'Ooty', 'Palakkad',\n",
       "       'Patiala', 'Patna', 'Puducherry', 'Pune', 'Pushkar', 'Raipur',\n",
       "       'Rajkot', 'Ranchi', 'Rishikesh', 'Salem', 'Shimla', 'Siliguri',\n",
       "       'Srinagar', 'Surat', 'Thrissur', 'Tirupati', 'Trichy',\n",
       "       'Trivandrum', 'Udaipur', 'Varanasi', 'Vellore', 'Vijayawada',\n",
       "       'Vizag', 'Vadodara'], dtype=object)"
      ]
     },
     "execution_count": 87,
     "metadata": {},
     "output_type": "execute_result"
    }
   ],
   "source": [
    "cdf['city'].unique()"
   ]
  },
  {
   "cell_type": "code",
   "execution_count": 88,
   "metadata": {},
   "outputs": [],
   "source": [
    "#Still there are some features which are not necessary i.e we have columns like 'city_id, locality, locality_verbose'. In which\n",
    "# column city is equivalent, similarly 'country_id' column is not required since this dataset belongs to indian restaurents, so \n",
    "#currency will be the same, so dropping 'locality', 'locality_verbose','latitude', 'longitude', 'country_id''currency' columns also.\n",
    "cdf.drop(['locality', 'locality_verbose', 'latitude', 'longitude', 'country_id', 'currency'],axis=1, inplace=True)"
   ]
  },
  {
   "cell_type": "code",
   "execution_count": 89,
   "metadata": {},
   "outputs": [],
   "source": [
    "cdf.drop(['city_id'],axis=1,inplace=True)"
   ]
  },
  {
   "cell_type": "code",
   "execution_count": 90,
   "metadata": {},
   "outputs": [
    {
     "data": {
      "text/plain": [
       "Index(['res_id', 'name', 'establishment', 'city', 'cuisines', 'timings',\n",
       "       'average_cost_for_two', 'price_range', 'highlights', 'aggregate_rating',\n",
       "       'rating_text', 'votes', 'photo_count', 'opentable_support', 'delivery',\n",
       "       'takeaway'],\n",
       "      dtype='object')"
      ]
     },
     "execution_count": 90,
     "metadata": {},
     "output_type": "execute_result"
    }
   ],
   "source": [
    "cdf.columns"
   ]
  },
  {
   "cell_type": "code",
   "execution_count": 91,
   "metadata": {},
   "outputs": [
    {
     "data": {
      "text/plain": [
       "array(['North Indian, South Indian, Mithai, Street Food, Desserts',\n",
       "       'North Indian, Mughlai, Rolls, Chinese, Fast Food, Street Food',\n",
       "       'Fast Food, Mithai', ...,\n",
       "       'Street Food, Biryani, Chinese, Fast Food, North Indian, Mughlai',\n",
       "       'North Indian, Chinese, Mexican, Italian, Thai, Continental',\n",
       "       'North Indian, Lucknowi, Chinese'], dtype=object)"
      ]
     },
     "execution_count": 91,
     "metadata": {},
     "output_type": "execute_result"
    }
   ],
   "source": [
    "cdf['cuisines'].unique()"
   ]
  },
  {
   "cell_type": "code",
   "execution_count": 92,
   "metadata": {},
   "outputs": [],
   "source": [
    "# Cuisines column has some missing values and also have to be seperated the unique cuisines \n",
    "cdf['cuisines'] = cdf[\"cuisines\"].fillna(\"No cuisine\")"
   ]
  },
  {
   "cell_type": "code",
   "execution_count": 93,
   "metadata": {},
   "outputs": [
    {
     "name": "stdout",
     "output_type": "stream",
     "text": [
      "Total number of unique cuisines =  134\n"
     ]
    }
   ],
   "source": [
    "cuisines = []\n",
    "cdf[\"cuisines\"].apply(lambda x : cuisines.extend(x.split(\", \")))\n",
    "cuisines = pd.Series(cuisines)\n",
    "print(\"Total number of unique cuisines = \", cuisines.nunique())"
   ]
  },
  {
   "cell_type": "code",
   "execution_count": 94,
   "metadata": {},
   "outputs": [
    {
     "data": {
      "text/plain": [
       "array(['North Indian', 'South Indian', 'Mithai', 'Street Food',\n",
       "       'Desserts', 'Mughlai', 'Rolls', 'Chinese', 'Fast Food', 'Bakery',\n",
       "       'Continental', 'Italian', 'Pizza', 'Cafe', 'Burger', 'Wraps',\n",
       "       'Beverages', 'Rajasthani', 'Mexican', 'Healthy Food', 'Sandwich',\n",
       "       'Salad', 'Momos', 'Lebanese', 'Mediterranean', 'Thai', 'Gujarati',\n",
       "       'Indian', 'Finger Food', 'European', 'Tea', 'Asian', 'Bar Food',\n",
       "       'Kebab', 'Paan', 'Biryani', 'Juices', 'Ice Cream', 'Japanese',\n",
       "       'Korean', 'Afghan', 'Awadhi', 'No cuisine', 'Hyderabadi',\n",
       "       'Lucknowi', 'Roast Chicken', 'Drinks Only', 'Coffee', 'American',\n",
       "       'BBQ', 'Maharashtrian', 'Modern Indian', 'Andhra', 'Konkan',\n",
       "       'Kerala', 'Sushi', 'Parsi', 'Greek', 'Bengali', 'Seafood',\n",
       "       'Frozen Yogurt', 'Arabian', 'Indonesian', 'Sindhi', 'Hot dogs',\n",
       "       'Goan', 'Charcoal Chicken', 'Raw Meats', 'Grill', 'Malwani',\n",
       "       'Cantonese', 'Pakistani', 'Steak', 'Vietnamese', 'Singaporean',\n",
       "       'Middle Eastern', 'British', 'French', 'Burmese', 'Kashmiri',\n",
       "       'Mangalorean', 'Malaysian', 'Tex-Mex', 'Spanish', 'Chettinad',\n",
       "       'Tibetan', 'German', 'Belgian', 'Turkish', 'Bihari', 'Odia',\n",
       "       'Naga', 'Bubble Tea', 'Moroccan', 'Sri Lankan', 'Mandi',\n",
       "       'Coffee and Tea', 'Cafe Food', 'Oriental', 'Cuisine Varies',\n",
       "       'Pan Asian', 'Mishti', 'Portuguese', 'Iranian', 'North Eastern',\n",
       "       'Mongolian', 'Irish', 'Tamil', 'Russian', 'Panini',\n",
       "       'South American', 'Fusion', 'Nepalese', 'International',\n",
       "       'Modern Australian', 'Poké', 'Falafel', 'Armenian', 'Peruvian',\n",
       "       'Brazilian', 'Himachali', 'Israeli', 'Bohri', 'Assamese',\n",
       "       'Bangladeshi', 'African', 'Egyptian', 'Crepes', 'Fried Chicken',\n",
       "       'Swedish', 'Cake', 'Garhwali', 'Vegan', 'Afghani'], dtype=object)"
      ]
     },
     "execution_count": 94,
     "metadata": {},
     "output_type": "execute_result"
    }
   ],
   "source": [
    "cuisines.unique()"
   ]
  },
  {
   "cell_type": "code",
   "execution_count": 95,
   "metadata": {},
   "outputs": [
    {
     "data": {
      "text/plain": [
       "Index(['res_id', 'name', 'establishment', 'city', 'cuisines', 'timings',\n",
       "       'average_cost_for_two', 'price_range', 'highlights', 'aggregate_rating',\n",
       "       'rating_text', 'votes', 'photo_count', 'opentable_support', 'delivery',\n",
       "       'takeaway'],\n",
       "      dtype='object')"
      ]
     },
     "execution_count": 95,
     "metadata": {},
     "output_type": "execute_result"
    }
   ],
   "source": [
    "cdf.columns"
   ]
  },
  {
   "cell_type": "code",
   "execution_count": 96,
   "metadata": {},
   "outputs": [
    {
     "name": "stdout",
     "output_type": "stream",
     "text": [
      "7740\n",
      "['8:30am – 10:30pm (Mon-Sun)'\n",
      " '12:30PM to 12Midnight (Mon, Wed, Thu, Fri, Sat, Sun), 1PM to 12Midnight (Tue)'\n",
      " '9:30 AM to 11 PM' ... '8am – 2:30pm, 5pm – 10pm (Mon-Sun)'\n",
      " '8am – 3pm, 6:30pm – 11pm (Mon-Sun)'\n",
      " '4pm – 11pm (Mon, Tue, Wed, Fri, Sat, Sun), 4pm – 11:30pm (Thu)']\n"
     ]
    }
   ],
   "source": [
    "#'timings' column\n",
    "print(cdf.timings.nunique())\n",
    "print(cdf.timings.unique())"
   ]
  },
  {
   "cell_type": "code",
   "execution_count": 97,
   "metadata": {},
   "outputs": [],
   "source": [
    "# since the 'timings' column has missing values and not structured properly, its better to drop this column\n",
    "cdf.drop(['timings'],axis=1,inplace=True)"
   ]
  },
  {
   "cell_type": "code",
   "execution_count": 98,
   "metadata": {},
   "outputs": [
    {
     "data": {
      "text/plain": [
       "Index(['res_id', 'name', 'establishment', 'city', 'cuisines',\n",
       "       'average_cost_for_two', 'price_range', 'highlights', 'aggregate_rating',\n",
       "       'rating_text', 'votes', 'photo_count', 'opentable_support', 'delivery',\n",
       "       'takeaway'],\n",
       "      dtype='object')"
      ]
     },
     "execution_count": 98,
     "metadata": {},
     "output_type": "execute_result"
    }
   ],
   "source": [
    "cdf.columns"
   ]
  },
  {
   "cell_type": "code",
   "execution_count": 99,
   "metadata": {},
   "outputs": [
    {
     "data": {
      "text/plain": [
       "array([  700,   600,   300,  1000,   400,   500,  1200,  1600,   250,\n",
       "         200,   150,  1500,   800,   450,   850,   350,   900,  6000,\n",
       "         650,   550,  2500,  6500,  5500,  4300,  3600,  3500,  3200,\n",
       "        3000,  2800,  2000,  1800,  1400,  1300,  1250,  1150,  1100,\n",
       "        1050,    50,    60,   100,   750,     0,   220,   260,   950,\n",
       "        1900,  2400,  2300,  2200,  1700,  1230,    70,   140,   120,\n",
       "         470,    20,    40,   110,    80,    90,   440,  2100, 14000,\n",
       "        5000,  4500,  4100,  4000,  3700,  3400,  2700,  2600,  1650,\n",
       "        1350,   180,  1260,     2,   197,   312,   170,   240,   330,\n",
       "        3100,  4200,  1850,  3300,  4800,  3800,  3250,  2900,  1750,\n",
       "         282,    35,   149,  1550,  5100,  6600,  1450,   160,  2250,\n",
       "        8000,  7000,  3900,  3650,  1020,   320,   360,   280,   130,\n",
       "       15000,  2501,    30,  1950,  1875,  1190,   309, 12000,   380,\n",
       "         299,    45,   190,  4600,   880,    75,   620,   999, 10000,\n",
       "         505, 30000,  4050,   175,   404,   445,   640,    15,   420,\n",
       "         115,   444,   592,  1499,   208,   940,   125,  7500,   520,\n",
       "         294], dtype=int64)"
      ]
     },
     "execution_count": 99,
     "metadata": {},
     "output_type": "execute_result"
    }
   ],
   "source": [
    "cdf['average_cost_for_two'].unique()"
   ]
  },
  {
   "cell_type": "code",
   "execution_count": 100,
   "metadata": {},
   "outputs": [
    {
     "data": {
      "text/plain": [
       "array([2, 1, 3, 4], dtype=int64)"
      ]
     },
     "execution_count": 100,
     "metadata": {},
     "output_type": "execute_result"
    }
   ],
   "source": [
    "cdf['price_range'].unique()"
   ]
  },
  {
   "cell_type": "code",
   "execution_count": 101,
   "metadata": {},
   "outputs": [
    {
     "name": "stdout",
     "output_type": "stream",
     "text": [
      "31228\n",
      "[\"['Lunch', 'Takeaway Available', 'Credit Card', 'Dinner', 'Cash', 'Air Conditioned', 'Indoor Seating', 'Pure Veg']\"\n",
      " \"['Delivery', 'No Alcohol Available', 'Dinner', 'Takeaway Available', 'Lunch', 'Cash', 'Indoor Seating']\"\n",
      " \"['No Alcohol Available', 'Dinner', 'Takeaway Available', 'Breakfast', 'Lunch', 'Cash', 'Delivery', 'Outdoor Seating', 'Air Conditioned', 'Self Service', 'Indoor Seating', 'Digital Payments Accepted', 'Pure Veg', 'Desserts and Bakes']\"\n",
      " ...\n",
      " \"['Dinner', 'Delivery', 'Cash', 'Takeaway Available', 'Free Parking', 'Digital Payments Accepted', 'Pure Veg', 'Indoor Seating']\"\n",
      " \"['Dinner', 'Cash', 'Takeaway Available', 'Lunch', 'Delivery', 'Free Parking', 'Indoor Seating', 'Air Conditioned', 'Outdoor Seating', 'Digital Payments Accepted', 'Catering Available', 'Pure Veg']\"\n",
      " \"['Dinner', 'Cash', 'Takeaway Available', 'Debit Card', 'Delivery', 'Credit Card', 'Free Parking', 'Outdoor Seating']\"]\n"
     ]
    }
   ],
   "source": [
    "print(cdf[\"highlights\"].nunique())\n",
    "print(cdf[\"highlights\"].unique())"
   ]
  },
  {
   "cell_type": "code",
   "execution_count": 102,
   "metadata": {},
   "outputs": [
    {
     "name": "stdout",
     "output_type": "stream",
     "text": [
      "Total number of unique highlights =  104\n",
      "['Lunch' 'Takeaway Available' 'Credit Card' 'Dinner' 'Cash'\n",
      " 'Air Conditioned' 'Indoor Seating' 'Pure Veg' 'Delivery'\n",
      " 'No Alcohol Available' 'Breakfast' 'Outdoor Seating' 'Self Service'\n",
      " 'Digital Payments Accepted' 'Desserts and Bakes' 'Smoking Area'\n",
      " 'Dance Floor' 'Serves Alcohol' 'Debit Card' 'Wine' 'Live Music' 'Rooftop'\n",
      " 'Live Sports Screening' 'Fullbar' 'Beer' 'Serves Cocktails'\n",
      " 'Table booking recommended' 'Available for Functions' 'Resto Bar'\n",
      " 'Hookah' 'Wifi' 'DJ' 'Live Entertainment' 'City View' 'Free Parking'\n",
      " 'Free Wifi' 'Table booking not available'\n",
      " 'Table Reservation Not Required' 'Axis Bank - Dining Delights'\n",
      " 'No Seating Available' 'Buffet' 'Serves Jain Food' 'Poolside'\n",
      " 'Table reservation required' 'Restricted Entry' 'Valet Parking Available'\n",
      " 'Sodexo' '4/5 Star' 'Karaoke' 'Kid Friendly'\n",
      " 'Private Dining Area Available' 'Nightlife' 'Gluten Free Options'\n",
      " 'Luxury Dining' 'Wheelchair Accessible' 'Above 18 Only'\n",
      " 'Pre-Ordering Required' 'Home Baker' 'Vegan Options' 'Gaming Area'\n",
      " 'Sports TV' 'Halal' 'Standing Tables' 'Variable Menu' '' 'Group Meal'\n",
      " 'All Day Breakfast' 'Catering Available' 'Entry Fee' 'Mall Parking'\n",
      " 'Lunch Menu' 'Sneakpeek' 'Couple Entry Only' 'Brunch' 'Board Games'\n",
      " 'Table booking for Groups' 'Ticket Restaurant' 'Unlimited Pizza'\n",
      " 'Pet Friendly' 'Disabled Friendly' 'Bulk Orders Accepted' 'Drive Thru'\n",
      " 'Drive in' 'Pool Table' 'Craft Beer' 'LGBTQIA Friendly' 'Gastro Pub'\n",
      " 'Romantic Dining' 'Card Upon Delivery' 'Seaside' 'Keto Options' 'BYOB'\n",
      " 'Gin Bar' 'Dark Kitchen' 'Paid Wifi' 'Wine Tasting' 'Seaview'\n",
      " 'Members Only' 'Speakeasy' 'Celebrity Frequented' 'Alipay Accepted'\n",
      " 'Subscription Available' 'Subscription Required' 'Bira 91 Beer']\n"
     ]
    }
   ],
   "source": [
    "# seperating highlights values\n",
    "hl_sub = []\n",
    "cdf['highlights'].apply(lambda x: hl_sub.extend(x[2:-2].split(\"', '\")))\n",
    "hl_sub = pd.Series(hl_sub)\n",
    "print(\"Total number of unique highlights = \", hl_sub.nunique())\n",
    "print(hl_sub.unique())"
   ]
  },
  {
   "cell_type": "code",
   "execution_count": 103,
   "metadata": {},
   "outputs": [
    {
     "data": {
      "text/plain": [
       "Index(['res_id', 'name', 'establishment', 'city', 'cuisines',\n",
       "       'average_cost_for_two', 'price_range', 'highlights', 'aggregate_rating',\n",
       "       'rating_text', 'votes', 'photo_count', 'opentable_support', 'delivery',\n",
       "       'takeaway'],\n",
       "      dtype='object')"
      ]
     },
     "execution_count": 103,
     "metadata": {},
     "output_type": "execute_result"
    }
   ],
   "source": [
    "cdf.columns\n"
   ]
  },
  {
   "cell_type": "code",
   "execution_count": 104,
   "metadata": {},
   "outputs": [
    {
     "data": {
      "text/html": [
       "<div>\n",
       "<style scoped>\n",
       "    .dataframe tbody tr th:only-of-type {\n",
       "        vertical-align: middle;\n",
       "    }\n",
       "\n",
       "    .dataframe tbody tr th {\n",
       "        vertical-align: top;\n",
       "    }\n",
       "\n",
       "    .dataframe thead th {\n",
       "        text-align: right;\n",
       "    }\n",
       "</style>\n",
       "<table border=\"1\" class=\"dataframe\">\n",
       "  <thead>\n",
       "    <tr style=\"text-align: right;\">\n",
       "      <th></th>\n",
       "      <th>aggregate_rating</th>\n",
       "      <th>votes</th>\n",
       "      <th>photo_count</th>\n",
       "    </tr>\n",
       "  </thead>\n",
       "  <tbody>\n",
       "    <tr>\n",
       "      <th>count</th>\n",
       "      <td>55568.000000</td>\n",
       "      <td>55568.000000</td>\n",
       "      <td>55568.000000</td>\n",
       "    </tr>\n",
       "    <tr>\n",
       "      <th>mean</th>\n",
       "      <td>2.958593</td>\n",
       "      <td>223.330352</td>\n",
       "      <td>160.974770</td>\n",
       "    </tr>\n",
       "    <tr>\n",
       "      <th>std</th>\n",
       "      <td>1.464576</td>\n",
       "      <td>618.224019</td>\n",
       "      <td>586.975382</td>\n",
       "    </tr>\n",
       "    <tr>\n",
       "      <th>min</th>\n",
       "      <td>0.000000</td>\n",
       "      <td>-18.000000</td>\n",
       "      <td>0.000000</td>\n",
       "    </tr>\n",
       "    <tr>\n",
       "      <th>25%</th>\n",
       "      <td>2.900000</td>\n",
       "      <td>6.000000</td>\n",
       "      <td>1.000000</td>\n",
       "    </tr>\n",
       "    <tr>\n",
       "      <th>50%</th>\n",
       "      <td>3.500000</td>\n",
       "      <td>35.000000</td>\n",
       "      <td>10.000000</td>\n",
       "    </tr>\n",
       "    <tr>\n",
       "      <th>75%</th>\n",
       "      <td>3.900000</td>\n",
       "      <td>175.000000</td>\n",
       "      <td>69.000000</td>\n",
       "    </tr>\n",
       "    <tr>\n",
       "      <th>max</th>\n",
       "      <td>4.900000</td>\n",
       "      <td>42539.000000</td>\n",
       "      <td>17702.000000</td>\n",
       "    </tr>\n",
       "  </tbody>\n",
       "</table>\n",
       "</div>"
      ],
      "text/plain": [
       "       aggregate_rating         votes   photo_count\n",
       "count      55568.000000  55568.000000  55568.000000\n",
       "mean           2.958593    223.330352    160.974770\n",
       "std            1.464576    618.224019    586.975382\n",
       "min            0.000000    -18.000000      0.000000\n",
       "25%            2.900000      6.000000      1.000000\n",
       "50%            3.500000     35.000000     10.000000\n",
       "75%            3.900000    175.000000     69.000000\n",
       "max            4.900000  42539.000000  17702.000000"
      ]
     },
     "execution_count": 104,
     "metadata": {},
     "output_type": "execute_result"
    }
   ],
   "source": [
    "cdf[['aggregate_rating','votes','photo_count']].describe()"
   ]
  },
  {
   "cell_type": "code",
   "execution_count": 105,
   "metadata": {},
   "outputs": [
    {
     "data": {
      "text/plain": [
       "array(['Very Good', 'Excellent', 'Good', 'Average', 'Not rated', 'Poor',\n",
       "       'Bardzo dobrze', 'Muito Bom', 'İyi', 'Çok iyi', 'Baik',\n",
       "       'Sangat Baik', 'Skvělé', 'Muy Bueno', 'Průměr', 'Ortalama',\n",
       "       'Skvělá volba', 'Muito bom', 'Velmi dobré', 'Excelente', 'Bom',\n",
       "       'Scarso', 'Promedio', 'Vynikajúce', 'Bueno', 'Dobré', 'Terbaik',\n",
       "       'Harika', 'Veľmi dobré', 'Eccellente', 'Buono', 'Média', 'Dobrze'],\n",
       "      dtype=object)"
      ]
     },
     "execution_count": 105,
     "metadata": {},
     "output_type": "execute_result"
    }
   ],
   "source": [
    "cdf['rating_text'].unique()"
   ]
  },
  {
   "cell_type": "code",
   "execution_count": 106,
   "metadata": {},
   "outputs": [],
   "source": [
    "#dropping 'rating_text' since we use aggregate_rating \n",
    "cdf.drop(['rating_text'],axis=1,inplace=True)"
   ]
  },
  {
   "cell_type": "code",
   "execution_count": 107,
   "metadata": {},
   "outputs": [
    {
     "data": {
      "text/plain": [
       "array([ 0., nan])"
      ]
     },
     "execution_count": 107,
     "metadata": {},
     "output_type": "execute_result"
    }
   ],
   "source": [
    "cdf.opentable_support.unique()"
   ]
  },
  {
   "cell_type": "code",
   "execution_count": 108,
   "metadata": {},
   "outputs": [],
   "source": [
    "#dropping 'opentable_support' since it has no true values\n",
    "cdf.drop(['opentable_support'],axis=1,inplace=True)"
   ]
  },
  {
   "cell_type": "code",
   "execution_count": 109,
   "metadata": {},
   "outputs": [
    {
     "data": {
      "text/plain": [
       "array([-1,  1,  0], dtype=int64)"
      ]
     },
     "execution_count": 109,
     "metadata": {},
     "output_type": "execute_result"
    }
   ],
   "source": [
    "cdf['delivery'].unique()"
   ]
  },
  {
   "cell_type": "code",
   "execution_count": 110,
   "metadata": {},
   "outputs": [
    {
     "data": {
      "text/plain": [
       "array([-1], dtype=int64)"
      ]
     },
     "execution_count": 110,
     "metadata": {},
     "output_type": "execute_result"
    }
   ],
   "source": [
    "cdf['takeaway'].unique()"
   ]
  },
  {
   "cell_type": "code",
   "execution_count": 111,
   "metadata": {},
   "outputs": [],
   "source": [
    "# Assuming -1 is a data entry error, so -1 is to be encoded as 1 for both delivery and takeaway\n",
    "\n",
    "cdf['delivery'] = cdf['delivery'].replace(-1, 1)\n",
    "cdf['takeaway'] = cdf['takeaway'].replace(-1, 1)"
   ]
  },
  {
   "cell_type": "code",
   "execution_count": 112,
   "metadata": {},
   "outputs": [
    {
     "name": "stdout",
     "output_type": "stream",
     "text": [
      "1    0.994331\n",
      "0    0.005669\n",
      "Name: delivery, dtype: float64\n",
      "****************************************\n",
      "1    1.0\n",
      "Name: takeaway, dtype: float64\n"
     ]
    }
   ],
   "source": [
    "print(cdf.delivery.value_counts(normalize=True)) #99% offer delivery, 1% don't\n",
    "print('****************************************')\n",
    "print(cdf['takeaway'].value_counts(normalize=True)) #100% takeaways"
   ]
  },
  {
   "cell_type": "code",
   "execution_count": 113,
   "metadata": {},
   "outputs": [],
   "source": [
    "# res_id now is just an identifier, and isn't of much use, so dropping this column.\n",
    "cdf.drop(['res_id'],axis=1,inplace=True)"
   ]
  },
  {
   "cell_type": "code",
   "execution_count": 114,
   "metadata": {
    "scrolled": true
   },
   "outputs": [
    {
     "data": {
      "text/html": [
       "<div>\n",
       "<style scoped>\n",
       "    .dataframe tbody tr th:only-of-type {\n",
       "        vertical-align: middle;\n",
       "    }\n",
       "\n",
       "    .dataframe tbody tr th {\n",
       "        vertical-align: top;\n",
       "    }\n",
       "\n",
       "    .dataframe thead th {\n",
       "        text-align: right;\n",
       "    }\n",
       "</style>\n",
       "<table border=\"1\" class=\"dataframe\">\n",
       "  <thead>\n",
       "    <tr style=\"text-align: right;\">\n",
       "      <th></th>\n",
       "      <th>count</th>\n",
       "      <th>unique</th>\n",
       "      <th>top</th>\n",
       "      <th>freq</th>\n",
       "      <th>mean</th>\n",
       "      <th>std</th>\n",
       "      <th>min</th>\n",
       "      <th>25%</th>\n",
       "      <th>50%</th>\n",
       "      <th>75%</th>\n",
       "      <th>max</th>\n",
       "    </tr>\n",
       "  </thead>\n",
       "  <tbody>\n",
       "    <tr>\n",
       "      <th>name</th>\n",
       "      <td>55568</td>\n",
       "      <td>41100</td>\n",
       "      <td>Domino's Pizza</td>\n",
       "      <td>399</td>\n",
       "      <td>NaN</td>\n",
       "      <td>NaN</td>\n",
       "      <td>NaN</td>\n",
       "      <td>NaN</td>\n",
       "      <td>NaN</td>\n",
       "      <td>NaN</td>\n",
       "      <td>NaN</td>\n",
       "    </tr>\n",
       "    <tr>\n",
       "      <th>establishment</th>\n",
       "      <td>55568</td>\n",
       "      <td>27</td>\n",
       "      <td>Quick Bites</td>\n",
       "      <td>14032</td>\n",
       "      <td>NaN</td>\n",
       "      <td>NaN</td>\n",
       "      <td>NaN</td>\n",
       "      <td>NaN</td>\n",
       "      <td>NaN</td>\n",
       "      <td>NaN</td>\n",
       "      <td>NaN</td>\n",
       "    </tr>\n",
       "    <tr>\n",
       "      <th>city</th>\n",
       "      <td>55568</td>\n",
       "      <td>99</td>\n",
       "      <td>Bangalore</td>\n",
       "      <td>2247</td>\n",
       "      <td>NaN</td>\n",
       "      <td>NaN</td>\n",
       "      <td>NaN</td>\n",
       "      <td>NaN</td>\n",
       "      <td>NaN</td>\n",
       "      <td>NaN</td>\n",
       "      <td>NaN</td>\n",
       "    </tr>\n",
       "    <tr>\n",
       "      <th>cuisines</th>\n",
       "      <td>55568</td>\n",
       "      <td>9383</td>\n",
       "      <td>North Indian</td>\n",
       "      <td>4295</td>\n",
       "      <td>NaN</td>\n",
       "      <td>NaN</td>\n",
       "      <td>NaN</td>\n",
       "      <td>NaN</td>\n",
       "      <td>NaN</td>\n",
       "      <td>NaN</td>\n",
       "      <td>NaN</td>\n",
       "    </tr>\n",
       "    <tr>\n",
       "      <th>average_cost_for_two</th>\n",
       "      <td>55568.0</td>\n",
       "      <td>NaN</td>\n",
       "      <td>NaN</td>\n",
       "      <td>NaN</td>\n",
       "      <td>528.205874</td>\n",
       "      <td>595.028447</td>\n",
       "      <td>0.0</td>\n",
       "      <td>200.0</td>\n",
       "      <td>350.0</td>\n",
       "      <td>600.0</td>\n",
       "      <td>30000.0</td>\n",
       "    </tr>\n",
       "    <tr>\n",
       "      <th>price_range</th>\n",
       "      <td>55568.0</td>\n",
       "      <td>NaN</td>\n",
       "      <td>NaN</td>\n",
       "      <td>NaN</td>\n",
       "      <td>1.714728</td>\n",
       "      <td>0.878227</td>\n",
       "      <td>1.0</td>\n",
       "      <td>1.0</td>\n",
       "      <td>1.0</td>\n",
       "      <td>2.0</td>\n",
       "      <td>4.0</td>\n",
       "    </tr>\n",
       "    <tr>\n",
       "      <th>highlights</th>\n",
       "      <td>55568</td>\n",
       "      <td>31228</td>\n",
       "      <td>['Dinner', 'Takeaway Available', 'Lunch', 'Cas...</td>\n",
       "      <td>860</td>\n",
       "      <td>NaN</td>\n",
       "      <td>NaN</td>\n",
       "      <td>NaN</td>\n",
       "      <td>NaN</td>\n",
       "      <td>NaN</td>\n",
       "      <td>NaN</td>\n",
       "      <td>NaN</td>\n",
       "    </tr>\n",
       "    <tr>\n",
       "      <th>aggregate_rating</th>\n",
       "      <td>55568.0</td>\n",
       "      <td>NaN</td>\n",
       "      <td>NaN</td>\n",
       "      <td>NaN</td>\n",
       "      <td>2.958593</td>\n",
       "      <td>1.464576</td>\n",
       "      <td>0.0</td>\n",
       "      <td>2.9</td>\n",
       "      <td>3.5</td>\n",
       "      <td>3.9</td>\n",
       "      <td>4.9</td>\n",
       "    </tr>\n",
       "    <tr>\n",
       "      <th>votes</th>\n",
       "      <td>55568.0</td>\n",
       "      <td>NaN</td>\n",
       "      <td>NaN</td>\n",
       "      <td>NaN</td>\n",
       "      <td>223.330352</td>\n",
       "      <td>618.224019</td>\n",
       "      <td>-18.0</td>\n",
       "      <td>6.0</td>\n",
       "      <td>35.0</td>\n",
       "      <td>175.0</td>\n",
       "      <td>42539.0</td>\n",
       "    </tr>\n",
       "    <tr>\n",
       "      <th>photo_count</th>\n",
       "      <td>55568.0</td>\n",
       "      <td>NaN</td>\n",
       "      <td>NaN</td>\n",
       "      <td>NaN</td>\n",
       "      <td>160.974770</td>\n",
       "      <td>586.975382</td>\n",
       "      <td>0.0</td>\n",
       "      <td>1.0</td>\n",
       "      <td>10.0</td>\n",
       "      <td>69.0</td>\n",
       "      <td>17702.0</td>\n",
       "    </tr>\n",
       "    <tr>\n",
       "      <th>delivery</th>\n",
       "      <td>55568.0</td>\n",
       "      <td>NaN</td>\n",
       "      <td>NaN</td>\n",
       "      <td>NaN</td>\n",
       "      <td>0.994331</td>\n",
       "      <td>0.075078</td>\n",
       "      <td>0.0</td>\n",
       "      <td>1.0</td>\n",
       "      <td>1.0</td>\n",
       "      <td>1.0</td>\n",
       "      <td>1.0</td>\n",
       "    </tr>\n",
       "    <tr>\n",
       "      <th>takeaway</th>\n",
       "      <td>55568.0</td>\n",
       "      <td>NaN</td>\n",
       "      <td>NaN</td>\n",
       "      <td>NaN</td>\n",
       "      <td>1.000000</td>\n",
       "      <td>0.000000</td>\n",
       "      <td>1.0</td>\n",
       "      <td>1.0</td>\n",
       "      <td>1.0</td>\n",
       "      <td>1.0</td>\n",
       "      <td>1.0</td>\n",
       "    </tr>\n",
       "  </tbody>\n",
       "</table>\n",
       "</div>"
      ],
      "text/plain": [
       "                        count unique  \\\n",
       "name                    55568  41100   \n",
       "establishment           55568     27   \n",
       "city                    55568     99   \n",
       "cuisines                55568   9383   \n",
       "average_cost_for_two  55568.0    NaN   \n",
       "price_range           55568.0    NaN   \n",
       "highlights              55568  31228   \n",
       "aggregate_rating      55568.0    NaN   \n",
       "votes                 55568.0    NaN   \n",
       "photo_count           55568.0    NaN   \n",
       "delivery              55568.0    NaN   \n",
       "takeaway              55568.0    NaN   \n",
       "\n",
       "                                                                    top  \\\n",
       "name                                                     Domino's Pizza   \n",
       "establishment                                               Quick Bites   \n",
       "city                                                          Bangalore   \n",
       "cuisines                                                   North Indian   \n",
       "average_cost_for_two                                                NaN   \n",
       "price_range                                                         NaN   \n",
       "highlights            ['Dinner', 'Takeaway Available', 'Lunch', 'Cas...   \n",
       "aggregate_rating                                                    NaN   \n",
       "votes                                                               NaN   \n",
       "photo_count                                                         NaN   \n",
       "delivery                                                            NaN   \n",
       "takeaway                                                            NaN   \n",
       "\n",
       "                       freq        mean         std   min    25%    50%  \\\n",
       "name                    399         NaN         NaN   NaN    NaN    NaN   \n",
       "establishment         14032         NaN         NaN   NaN    NaN    NaN   \n",
       "city                   2247         NaN         NaN   NaN    NaN    NaN   \n",
       "cuisines               4295         NaN         NaN   NaN    NaN    NaN   \n",
       "average_cost_for_two    NaN  528.205874  595.028447   0.0  200.0  350.0   \n",
       "price_range             NaN    1.714728    0.878227   1.0    1.0    1.0   \n",
       "highlights              860         NaN         NaN   NaN    NaN    NaN   \n",
       "aggregate_rating        NaN    2.958593    1.464576   0.0    2.9    3.5   \n",
       "votes                   NaN  223.330352  618.224019 -18.0    6.0   35.0   \n",
       "photo_count             NaN  160.974770  586.975382   0.0    1.0   10.0   \n",
       "delivery                NaN    0.994331    0.075078   0.0    1.0    1.0   \n",
       "takeaway                NaN    1.000000    0.000000   1.0    1.0    1.0   \n",
       "\n",
       "                        75%      max  \n",
       "name                    NaN      NaN  \n",
       "establishment           NaN      NaN  \n",
       "city                    NaN      NaN  \n",
       "cuisines                NaN      NaN  \n",
       "average_cost_for_two  600.0  30000.0  \n",
       "price_range             2.0      4.0  \n",
       "highlights              NaN      NaN  \n",
       "aggregate_rating        3.9      4.9  \n",
       "votes                 175.0  42539.0  \n",
       "photo_count            69.0  17702.0  \n",
       "delivery                1.0      1.0  \n",
       "takeaway                1.0      1.0  "
      ]
     },
     "execution_count": 114,
     "metadata": {},
     "output_type": "execute_result"
    }
   ],
   "source": [
    "cdf.describe(include='all').T"
   ]
  },
  {
   "cell_type": "markdown",
   "metadata": {},
   "source": [
    "### Fixing incorrect Data Types"
   ]
  },
  {
   "cell_type": "code",
   "execution_count": 115,
   "metadata": {},
   "outputs": [
    {
     "name": "stdout",
     "output_type": "stream",
     "text": [
      "<class 'pandas.core.frame.DataFrame'>\n",
      "Int64Index: 55568 entries, 0 to 211942\n",
      "Data columns (total 12 columns):\n",
      " #   Column                Non-Null Count  Dtype  \n",
      "---  ------                --------------  -----  \n",
      " 0   name                  55568 non-null  object \n",
      " 1   establishment         55568 non-null  object \n",
      " 2   city                  55568 non-null  object \n",
      " 3   cuisines              55568 non-null  object \n",
      " 4   average_cost_for_two  55568 non-null  int64  \n",
      " 5   price_range           55568 non-null  int64  \n",
      " 6   highlights            55568 non-null  object \n",
      " 7   aggregate_rating      55568 non-null  float64\n",
      " 8   votes                 55568 non-null  int64  \n",
      " 9   photo_count           55568 non-null  int64  \n",
      " 10  delivery              55568 non-null  int64  \n",
      " 11  takeaway              55568 non-null  int64  \n",
      "dtypes: float64(1), int64(6), object(5)\n",
      "memory usage: 5.5+ MB\n"
     ]
    }
   ],
   "source": [
    "cdf.info()"
   ]
  },
  {
   "cell_type": "code",
   "execution_count": 116,
   "metadata": {},
   "outputs": [],
   "source": [
    "#delivery, takeaway and price_range columns are categorical and are stored as int, so this needs to be fixed.\n",
    "#cdf['delivery'] = cdf['delivery'].astype(object)\n",
    "#cdf['takeaway'] = cdf['takeaway'].astype(object)\n",
    "#cdf['price_range'] = cdf['price_range'].astype(object)"
   ]
  },
  {
   "cell_type": "code",
   "execution_count": 117,
   "metadata": {},
   "outputs": [
    {
     "name": "stdout",
     "output_type": "stream",
     "text": [
      "<class 'pandas.core.frame.DataFrame'>\n",
      "Int64Index: 55568 entries, 0 to 211942\n",
      "Data columns (total 12 columns):\n",
      " #   Column                Non-Null Count  Dtype  \n",
      "---  ------                --------------  -----  \n",
      " 0   name                  55568 non-null  object \n",
      " 1   establishment         55568 non-null  object \n",
      " 2   city                  55568 non-null  object \n",
      " 3   cuisines              55568 non-null  object \n",
      " 4   average_cost_for_two  55568 non-null  int64  \n",
      " 5   price_range           55568 non-null  int64  \n",
      " 6   highlights            55568 non-null  object \n",
      " 7   aggregate_rating      55568 non-null  float64\n",
      " 8   votes                 55568 non-null  int64  \n",
      " 9   photo_count           55568 non-null  int64  \n",
      " 10  delivery              55568 non-null  int64  \n",
      " 11  takeaway              55568 non-null  int64  \n",
      "dtypes: float64(1), int64(6), object(5)\n",
      "memory usage: 5.5+ MB\n"
     ]
    }
   ],
   "source": [
    "cdf.info()"
   ]
  },
  {
   "cell_type": "markdown",
   "metadata": {},
   "source": [
    "### EDA Report by Sweetviz Package on the Cleaned Data"
   ]
  },
  {
   "cell_type": "code",
   "execution_count": 118,
   "metadata": {},
   "outputs": [
    {
     "data": {
      "application/vnd.jupyter.widget-view+json": {
       "model_id": "51c39ee661c74089a7f89d8df390ae8c",
       "version_major": 2,
       "version_minor": 0
      },
      "text/plain": [
       "                                             |          | [  0%]   00:00 -> (? left)"
      ]
     },
     "metadata": {},
     "output_type": "display_data"
    },
    {
     "name": "stdout",
     "output_type": "stream",
     "text": [
      "Report cleaned_data.html was generated! NOTEBOOK/COLAB USERS: the web browser MAY not pop up, regardless, the report IS saved in your notebook/colab files.\n"
     ]
    }
   ],
   "source": [
    "#report_trim = sweetviz.analyze(cdf)\n",
    "#report_trim.show_html('cleaned_data.html')"
   ]
  },
  {
   "cell_type": "code",
   "execution_count": 120,
   "metadata": {},
   "outputs": [
    {
     "data": {
      "image/png": "[encoded data removed]",
      "text/plain": [
       "<Figure size 500x500 with 2 Axes>"
      ]
     },
     "metadata": {},
     "output_type": "display_data"
    }
   ],
   "source": [
    "#Checking the correlation between the dataset columns\n",
    "plt.figure(figsize=(5,5))\n",
    "sns.heatmap(cdf.corr(), cmap='coolwarm', annot=True)\n",
    "plt.show()"
   ]
  },
  {
   "cell_type": "code",
   "execution_count": null,
   "metadata": {},
   "outputs": [],
   "source": [
    "# Price_range and avgerage_cost_per_two are highly correlted and photo_count and votes are also highly correlated.\n",
    "# rest all remains inacceptable range"
   ]
  },
  {
   "cell_type": "markdown",
   "metadata": {},
   "source": [
    "### Exploring The Dependent Variable(aggregate_rating)"
   ]
  },
  {
   "cell_type": "code",
   "execution_count": 122,
   "metadata": {},
   "outputs": [
    {
     "data": {
      "text/plain": [
       "0.0    10058\n",
       "3.9     3537\n",
       "3.8     3428\n",
       "3.7     3324\n",
       "4.0     3307\n",
       "3.6     3004\n",
       "3.2     2911\n",
       "3.4     2789\n",
       "3.3     2783\n",
       "3.5     2757\n",
       "4.1     2757\n",
       "4.2     2194\n",
       "3.1     1779\n",
       "4.3     1612\n",
       "3.0     1595\n",
       "2.9     1488\n",
       "2.8     1156\n",
       "4.4     1070\n",
       "2.7      856\n",
       "4.5      682\n",
       "2.6      570\n",
       "4.6      428\n",
       "2.5      396\n",
       "2.4      300\n",
       "4.7      239\n",
       "2.3      167\n",
       "4.8      142\n",
       "4.9      130\n",
       "2.2       65\n",
       "2.1       28\n",
       "2.0       10\n",
       "1.9        4\n",
       "1.8        2\n",
       "Name: aggregate_rating, dtype: int64"
      ]
     },
     "execution_count": 122,
     "metadata": {},
     "output_type": "execute_result"
    }
   ],
   "source": [
    "cdf.aggregate_rating.value_counts()"
   ]
  },
  {
   "cell_type": "code",
   "execution_count": null,
   "metadata": {},
   "outputs": [],
   "source": [
    "# Here in out dependent variable rating '0' represents not rated(reffered from rating text column)\n",
    "# Replacing such values with NaN so that these NaN values can be filled with mean or median values so that model may not ="
   ]
  },
  {
   "cell_type": "code",
   "execution_count": null,
   "metadata": {},
   "outputs": [],
   "source": []
  },
  {
   "cell_type": "code",
   "execution_count": null,
   "metadata": {},
   "outputs": [],
   "source": []
  },
  {
   "cell_type": "code",
   "execution_count": null,
   "metadata": {},
   "outputs": [],
   "source": []
  },
  {
   "cell_type": "code",
   "execution_count": null,
   "metadata": {},
   "outputs": [],
   "source": []
  },
  {
   "cell_type": "code",
   "execution_count": null,
   "metadata": {},
   "outputs": [],
   "source": []
  }
 ],
 "metadata": {
  "kernelspec": {
   "display_name": "Python 3",
   "language": "python",
   "name": "python3"
  },
  "language_info": {
   "codemirror_mode": {
    "name": "ipython",
    "version": 3
   },
   "file_extension": ".py",
   "mimetype": "text/x-python",
   "name": "python",
   "nbconvert_exporter": "python",
   "pygments_lexer": "ipython3",
   "version": "3.7.6"
  }
 },
 "nbformat": 4,
 "nbformat_minor": 4
}
